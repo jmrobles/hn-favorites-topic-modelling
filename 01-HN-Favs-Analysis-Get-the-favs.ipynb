{
 "cells": [
  {
   "cell_type": "markdown",
   "metadata": {},
   "source": [
    "## Discovering my interests in Hacker News with NLP\n",
    "# Part I: Get my HN favorites (upvoted)"
   ]
  },
  {
   "cell_type": "markdown",
   "metadata": {},
   "source": [
    "For scrapping we use Selenium instead of simple \"requests\" due to the major of Hacker News aggregated pages are JS content generated"
   ]
  },
  {
   "cell_type": "code",
   "execution_count": 1,
   "metadata": {},
   "outputs": [],
   "source": [
    "import requests\n",
    "from bs4 import BeautifulSoup\n",
    "import pandas as pd"
   ]
  },
  {
   "cell_type": "markdown",
   "metadata": {},
   "source": [
    "Set your `username` (aka `acct`) and `password` (aka `pw`)\n",
    "\n",
    "__ACTION__: Replace YOUR_ACCOUNT and YOUR_PASSWORD with your HN credentials"
   ]
  },
  {
   "cell_type": "code",
   "execution_count": 1,
   "metadata": {
    "execution": {
     "iopub.execute_input": "2020-08-11T22:20:28.215538Z",
     "iopub.status.busy": "2020-08-11T22:20:28.215320Z",
     "iopub.status.idle": "2020-08-11T22:20:28.218900Z",
     "shell.execute_reply": "2020-08-11T22:20:28.218278Z",
     "shell.execute_reply.started": "2020-08-11T22:20:28.215517Z"
    }
   },
   "outputs": [],
   "source": [
    "creds = {'acct': 'YOUR_ACCOUNT', 'pw': 'YOUR_PASSWORD'}"
   ]
  },
  {
   "cell_type": "markdown",
   "metadata": {},
   "source": [
    "We use a requests' session to manage cookies and the session"
   ]
  },
  {
   "cell_type": "code",
   "execution_count": 3,
   "metadata": {},
   "outputs": [],
   "source": [
    "sess = requests.Session()\n",
    "resp = sess.post('https://news.ycombinator.com/login', creds)\n",
    "assert resp.status_code == 200"
   ]
  },
  {
   "cell_type": "markdown",
   "metadata": {},
   "source": [
    "Yeah! We are \"logged\"\n",
    "\n",
    "Time to get the favs (upvoted)"
   ]
  },
  {
   "cell_type": "code",
   "execution_count": 4,
   "metadata": {},
   "outputs": [
    {
     "name": "stdout",
     "output_type": "stream",
     "text": [
      "Total items: 214\n"
     ]
    }
   ],
   "source": [
    "cnt = 0\n",
    "items = []\n",
    "nextUrl = f\"https://news.ycombinator.com/upvoted?id={creds['acct']}\"\n",
    "while True:\n",
    "    lnkMore = None\n",
    "    lastTitle = None\n",
    "    lastLink = None\n",
    "    lastPoints = None\n",
    "    lastComments = None\n",
    "    resp = sess.get(nextUrl)\n",
    "    nextUrl = None\n",
    "    dom = BeautifulSoup(resp.content, 'html.parser')\n",
    "    tbl = dom.findAll(\"table\", attrs={'class': 'itemlist'})\n",
    "    for tr in tbl[0].findAll('tr'):\n",
    "        if tr.has_attr('class') and tr['class'][0] == 'athing':\n",
    "            a = tr.select('td[class=\"title\"] a[class=\"storylink\"]')[0]\n",
    "            lastTitle = a.get_text()\n",
    "            lastLink = a['href']\n",
    "        elif tr.has_attr('class') and tr['class'][0] == 'spacer':\n",
    "            # Time to append to array\n",
    "            items.append({'title': lastTitle, 'url': lastLink, 'points': lastPoints, 'comments': lastComments})\n",
    "            lastTitle = None\n",
    "            lastLink = None\n",
    "            lastPoints = None\n",
    "            lastComments = None\n",
    "            cnt += 1\n",
    "        elif not tr.has_attr('class'):\n",
    "            # More info\n",
    "            sel = tr.select('span[class=\"score\"]')\n",
    "            #if len(sel) == 0:\n",
    "            #    continue\n",
    "            try:\n",
    "                lastPoints = int(sel[0].get_text().split(' ')[0])\n",
    "            except:\n",
    "                lastPoints = None\n",
    "            for a in tr.find_all('a'):\n",
    "                if 'comment' in a.get_text():\n",
    "                    try: \n",
    "                        lastComments = int(a.get_text().split('\\xa0')[0])\n",
    "                    except:\n",
    "                        lastComments = None\n",
    "            if len(tr.select('a[class=\"morelink\"]')) > 0:\n",
    "                nextUrl = 'https://news.ycombinator.com/' + tr.select('a[class=\"morelink\"]')[0]['href']\n",
    "    if nextUrl is None:\n",
    "        break\n",
    "print(f'Total items: {cnt}')     "
   ]
  },
  {
   "cell_type": "markdown",
   "metadata": {},
   "source": [
    "After some time (12 seconds in my case), we have the favs (214 favs for me)"
   ]
  },
  {
   "cell_type": "markdown",
   "metadata": {},
   "source": [
    "## Apply some filtering"
   ]
  },
  {
   "cell_type": "markdown",
   "metadata": {},
   "source": [
    "Remove internal links"
   ]
  },
  {
   "cell_type": "code",
   "execution_count": 5,
   "metadata": {},
   "outputs": [],
   "source": [
    "items = [x for x in items if x['url'].startswith('http')]"
   ]
  },
  {
   "cell_type": "markdown",
   "metadata": {},
   "source": [
    "We use pandas for exporting to JSON (records)"
   ]
  },
  {
   "cell_type": "code",
   "execution_count": 6,
   "metadata": {},
   "outputs": [],
   "source": [
    "df = pd.DataFrame(items)"
   ]
  },
  {
   "cell_type": "code",
   "execution_count": 7,
   "metadata": {},
   "outputs": [
    {
     "data": {
      "text/html": [
       "<div>\n",
       "<style scoped>\n",
       "    .dataframe tbody tr th:only-of-type {\n",
       "        vertical-align: middle;\n",
       "    }\n",
       "\n",
       "    .dataframe tbody tr th {\n",
       "        vertical-align: top;\n",
       "    }\n",
       "\n",
       "    .dataframe thead th {\n",
       "        text-align: right;\n",
       "    }\n",
       "</style>\n",
       "<table border=\"1\" class=\"dataframe\">\n",
       "  <thead>\n",
       "    <tr style=\"text-align: right;\">\n",
       "      <th></th>\n",
       "      <th>title</th>\n",
       "      <th>url</th>\n",
       "      <th>points</th>\n",
       "      <th>comments</th>\n",
       "    </tr>\n",
       "  </thead>\n",
       "  <tbody>\n",
       "    <tr>\n",
       "      <th>7</th>\n",
       "      <td>RedHat Mandrel Makes Java Native</td>\n",
       "      <td>https://www.infoq.com/news/2020/07/mandrel-gra...</td>\n",
       "      <td>176</td>\n",
       "      <td>139.0</td>\n",
       "    </tr>\n",
       "    <tr>\n",
       "      <th>165</th>\n",
       "      <td>U.S. judge says LinkedIn cannot block startup ...</td>\n",
       "      <td>http://www.reuters.com/article/us-microsoft-li...</td>\n",
       "      <td>779</td>\n",
       "      <td>288.0</td>\n",
       "    </tr>\n",
       "    <tr>\n",
       "      <th>127</th>\n",
       "      <td>Spanish football league defends phone 'spying'</td>\n",
       "      <td>https://www.bbc.com/news/technology-44453382</td>\n",
       "      <td>128</td>\n",
       "      <td>51.0</td>\n",
       "    </tr>\n",
       "    <tr>\n",
       "      <th>101</th>\n",
       "      <td>Startup idea checklist</td>\n",
       "      <td>https://www.defmacro.org/2019/03/26/startup-ch...</td>\n",
       "      <td>1251</td>\n",
       "      <td>194.0</td>\n",
       "    </tr>\n",
       "    <tr>\n",
       "      <th>10</th>\n",
       "      <td>I Just Hit $100k/year On GitHub Sponsors</td>\n",
       "      <td>https://calebporzio.com/i-just-hit-dollar-1000...</td>\n",
       "      <td>1469</td>\n",
       "      <td>493.0</td>\n",
       "    </tr>\n",
       "  </tbody>\n",
       "</table>\n",
       "</div>"
      ],
      "text/plain": [
       "                                                 title  \\\n",
       "7                     RedHat Mandrel Makes Java Native   \n",
       "165  U.S. judge says LinkedIn cannot block startup ...   \n",
       "127     Spanish football league defends phone 'spying'   \n",
       "101                             Startup idea checklist   \n",
       "10            I Just Hit $100k/year On GitHub Sponsors   \n",
       "\n",
       "                                                   url  points  comments  \n",
       "7    https://www.infoq.com/news/2020/07/mandrel-gra...     176     139.0  \n",
       "165  http://www.reuters.com/article/us-microsoft-li...     779     288.0  \n",
       "127       https://www.bbc.com/news/technology-44453382     128      51.0  \n",
       "101  https://www.defmacro.org/2019/03/26/startup-ch...    1251     194.0  \n",
       "10   https://calebporzio.com/i-just-hit-dollar-1000...    1469     493.0  "
      ]
     },
     "execution_count": 7,
     "metadata": {},
     "output_type": "execute_result"
    }
   ],
   "source": [
    "df.sample(5)"
   ]
  },
  {
   "cell_type": "code",
   "execution_count": 8,
   "metadata": {},
   "outputs": [],
   "source": [
    "df.to_json('hn_favs.json', 'records')"
   ]
  },
  {
   "cell_type": "markdown",
   "metadata": {},
   "source": [
    "All right! Favorites ready to be scrapped. Continue with the next notebook"
   ]
  }
 ],
 "metadata": {
  "kernelspec": {
   "display_name": "Python 3",
   "language": "python",
   "name": "python3"
  },
  "language_info": {
   "codemirror_mode": {
    "name": "ipython",
    "version": 3
   },
   "file_extension": ".py",
   "mimetype": "text/x-python",
   "name": "python",
   "nbconvert_exporter": "python",
   "pygments_lexer": "ipython3",
   "version": "3.8.2"
  }
 },
 "nbformat": 4,
 "nbformat_minor": 4
}
